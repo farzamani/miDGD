{
 "cells": [
  {
   "cell_type": "code",
   "execution_count": 1,
   "metadata": {},
   "outputs": [],
   "source": [
    "# general imports\n",
    "import sys\n",
    "import os\n",
    "import torch\n",
    "import torch.nn as nn\n",
    "import numpy as np\n",
    "import pandas as pd"
   ]
  },
  {
   "cell_type": "code",
   "execution_count": 2,
   "metadata": {},
   "outputs": [],
   "source": [
    "# get the DGD modules (once the current version is public we can switch to the repo)\n",
    "#git clone https://github.com/Center-for-Health-Data-Science/DeepGenerativeDecoder.git\n",
    "# for now I added them to this repo, but the imports will stay the same\n",
    "from src.dgd.latent import RepresentationLayer\n",
    "from src.dgd.latent import GaussianMixture\n",
    "from src.dgd.nn import NB_Module\n",
    "\n",
    "# get the new stuff\n",
    "from src.utils.helpers import set_seed\n",
    "from src.model.decoder import Decoder\n",
    "from src.data.dataset import GeneExpressionDataset"
   ]
  },
  {
   "cell_type": "code",
   "execution_count": 3,
   "metadata": {},
   "outputs": [],
   "source": [
    "# set random seeds, device and data directory\n",
    "seed = 0\n",
    "set_seed(seed)\n",
    "\n",
    "device = torch.device(\"cuda\" if torch.cuda.is_available() else \"cpu\")\n",
    "\n",
    "datadir=\"./data/\""
   ]
  },
  {
   "cell_type": "code",
   "execution_count": 4,
   "metadata": {},
   "outputs": [],
   "source": [
    "# get gtex data just for testing\n",
    "\n",
    "# uncomment to download the data\n",
    "#!wget https://zenodo.org/record/7828660/files/gtex_with_cancer.csv.gz\n",
    "\n",
    "gtex_raw = pd.read_table(\"gtex_with_cancer.csv.gz\",sep='\\t')\n",
    "\n",
    "# make data split for train and validation sets\n",
    "out_dim = gtex_raw.shape[1]-1\n",
    "train_ratio = 0.9\n",
    "train_data = gtex_raw.iloc[:int(train_ratio*len(gtex_raw)),:]\n",
    "test_data = gtex_raw.iloc[int(train_ratio*len(gtex_raw)):,:]\n",
    "\n",
    "# define scaling for NB\n",
    "# each sample gets a scaling factor\n",
    "scaling_factors = torch.mean(torch.Tensor(train_data.iloc[:,:-1].to_numpy()), dim=-1).unsqueeze(1)\n",
    "test_scaling_factors = torch.mean(torch.Tensor(test_data.iloc[:,:-1].to_numpy()), dim=-1).unsqueeze(1)\n",
    "\n",
    "# make data loaders\n",
    "train_loader = torch.utils.data.DataLoader(GeneExpressionDataset(train_data),\n",
    "                                          batch_size=256,\n",
    "                                          shuffle=True)\n",
    "test_loader = torch.utils.data.DataLoader(GeneExpressionDataset(test_data),\n",
    "                                          batch_size=256,\n",
    "                                          shuffle=True)"
   ]
  },
  {
   "cell_type": "code",
   "execution_count": 31,
   "metadata": {},
   "outputs": [
    {
     "data": {
      "text/plain": [
       "5000"
      ]
     },
     "execution_count": 31,
     "metadata": {},
     "output_type": "execute_result"
    }
   ],
   "source": [
    "out_dim"
   ]
  },
  {
   "cell_type": "code",
   "execution_count": 40,
   "metadata": {},
   "outputs": [],
   "source": [
    "n_tissues = len(gtex_raw[\"tissue\"].unique())\n",
    "n_tissues # bit too high with cancer types\n",
    "n_tissues = 30"
   ]
  },
  {
   "cell_type": "code",
   "execution_count": 6,
   "metadata": {},
   "outputs": [],
   "source": [
    "# hyperparameters\n",
    "latent_dim = 20\n",
    "hidden_dims = [128, 128, 128]\n",
    "reduction_type = \"sum\" # output loss reduction"
   ]
  },
  {
   "cell_type": "code",
   "execution_count": 41,
   "metadata": {},
   "outputs": [],
   "source": [
    "# decoder setup\n",
    "\n",
    "# set up an output module for the expression data\n",
    "gex_out_fc = nn.Sequential(\n",
    "    nn.Linear(hidden_dims[-1], out_dim)\n",
    "    )\n",
    "output_gex_layer = NB_Module(gex_out_fc, out_dim, scaling_type=\"mean\")\n",
    "output_gex_layer.n_features = out_dim\n",
    "\n",
    "# set up the decoder\n",
    "decoder = Decoder(latent_dim, hidden_dims, [output_gex_layer]).to(device)"
   ]
  },
  {
   "cell_type": "markdown",
   "metadata": {},
   "source": [
    "### specific code (DGD collection and training loop) as examples"
   ]
  },
  {
   "cell_type": "code",
   "execution_count": 36,
   "metadata": {},
   "outputs": [],
   "source": [
    "# combine everything in one class (if desired)\n",
    "\n",
    "class DGD(nn.Module):\n",
    "    def __init__(self,decoder,n_mix,rep_dim,gmm_spec={}):\n",
    "        super(DGD, self).__init__()\n",
    "        self.decoder=decoder\n",
    "        self.rep_dim = rep_dim      # Dimension of representation\n",
    "\n",
    "        self.gmm=GaussianMixture(n_mix,rep_dim,**gmm_spec)\n",
    "        self.train_rep=None\n",
    "        self.val_rep=None\n",
    "\n",
    "    def forward(self,z):\n",
    "        return self.decoder(z)\n",
    "\n",
    "    def loss(self,z,y,target,scale,gmm_loss=True,reduction=\"sum\"):\n",
    "        self.dec_loss = self.decoder.loss(y,target,scale,reduction=reduction)\n",
    "        if gmm_loss:\n",
    "            self.gmm_loss = self.gmm(z)\n",
    "            if reduction==\"mean\":\n",
    "                self.gmm_loss = self.gmm_loss.mean()\n",
    "            else:\n",
    "                self.gmm_loss = self.gmm_loss.sum()\n",
    "            return self.dec_loss, self.gmm_loss\n",
    "        else:\n",
    "            return self.dec_loss, None\n",
    "    \n",
    "    def forward_and_loss(self,z,target,scale,gmm_loss=True,reduction=\"sum\"):\n",
    "        y = self.decoder(z)\n",
    "        return self.loss(z,y[0],target,scale,gmm_loss,reduction)"
   ]
  },
  {
   "cell_type": "code",
   "execution_count": 37,
   "metadata": {},
   "outputs": [],
   "source": [
    "# write a minimal training function\n",
    "\n",
    "def train_dgd(dgd, train_loader, validation_loader, device, learning_rates={'dec':0.001,'rep':0.01,'gmm':0.01},weight_decay=0.,nepochs=100,pr=1,reduction_type=\"sum\"):\n",
    "    Ntrain=len(train_loader.dataset)\n",
    "    Nvalidation=len(validation_loader.dataset)\n",
    "    if dgd.train_rep is None:\n",
    "        dgd.train_rep = RepresentationLayer(dgd.rep_dim,Ntrain).to(device)\n",
    "    Nvalidation=len(validation_loader.dataset)\n",
    "    if dgd.val_rep is None:\n",
    "        dgd.val_rep = RepresentationLayer(dgd.rep_dim,Nvalidation).to(device)\n",
    "\n",
    "    dec_optimizer = torch.optim.AdamW(dgd.decoder.parameters(), lr=learning_rates['dec'])\n",
    "    gmm_optimizer = torch.optim.AdamW(dgd.gmm.parameters(), lr=learning_rates['gmm'])\n",
    "    train_rep_optimizer = torch.optim.AdamW(dgd.train_rep.parameters(), lr=learning_rates['rep'])\n",
    "    val_rep_optimizer = torch.optim.AdamW(dgd.val_rep.parameters(), lr=learning_rates['rep'])\n",
    "\n",
    "    loss_tab = {\"Epoch\":[],\"Train recon\":[],\"Test recon\":[],\n",
    "                \"GMM train\":[],\"GMM test\":[]}\n",
    "    best_loss=1.e20\n",
    "    # length of dataloader\n",
    "    tlen=len(train_loader)\n",
    "    vlen=len(validation_loader)\n",
    "    gmm_loss=True\n",
    "    dgd.train()\n",
    "    for epoch in range(nepochs):\n",
    "        loss_tab[\"Epoch\"].append(epoch)\n",
    "        loss_tab[\"Train recon\"].append(0.)\n",
    "        loss_tab[\"GMM train\"].append(0.)\n",
    "\n",
    "        train_rep_optimizer.zero_grad()\n",
    "        for x, lib, index in train_loader:\n",
    "            dec_optimizer.zero_grad()\n",
    "            if gmm_loss: gmm_optimizer.zero_grad()\n",
    "            recon_loss, gmm_loss = dgd.forward_and_loss(dgd.train_rep(index),[x.to(device)],[lib.unsqueeze(1).to(device)],\n",
    "                                        gmm_loss=gmm_loss,reduction=reduction_type)\n",
    "            loss_tab[\"Train recon\"][-1] += recon_loss.item()\n",
    "            loss_tab[\"GMM train\"][-1] += gmm_loss.item()\n",
    "            loss = recon_loss + gmm_loss\n",
    "            loss.backward()\n",
    "            dec_optimizer.step()\n",
    "            if gmm_loss: gmm_optimizer.step()\n",
    "            #return None\n",
    "        train_rep_optimizer.step()\n",
    "\n",
    "        loss_tab[\"Train recon\"][-1] /= tlen\n",
    "        loss_tab[\"GMM train\"][-1] /= Ntrain\n",
    "\n",
    "        # Validation data\n",
    "        loss_tab[\"Test recon\"].append(0.)\n",
    "        loss_tab[\"GMM test\"].append(0.)\n",
    "        val_rep_optimizer.zero_grad()\n",
    "        dgd.eval()\n",
    "        for x, lib, index in validation_loader:\n",
    "            recon_loss, gmm_loss = dgd.forward_and_loss(dgd.val_rep(index),[x.to(device)],[lib.unsqueeze(1).to(device)],\n",
    "                                        gmm_loss=gmm_loss,reduction=reduction_type)\n",
    "            loss_tab[\"Test recon\"][-1] += recon_loss.item()\n",
    "            loss_tab[\"GMM test\"][-1] += gmm_loss.item()\n",
    "            loss = recon_loss + gmm_loss\n",
    "            loss.backward()\n",
    "        val_rep_optimizer.step()\n",
    "\n",
    "        loss_tab[\"Test recon\"][-1] /= vlen\n",
    "        loss_tab[\"GMM test\"][-1] /= Nvalidation\n",
    "\n",
    "        if pr>0 and (epoch+1)%pr==0:\n",
    "            print(epoch+1, loss_tab[\"Train recon\"][-1], loss_tab[\"Test recon\"][-1])\n",
    "    \n",
    "    return loss_tab"
   ]
  },
  {
   "cell_type": "markdown",
   "metadata": {},
   "source": [
    "### test"
   ]
  },
  {
   "cell_type": "code",
   "execution_count": 42,
   "metadata": {},
   "outputs": [],
   "source": [
    "# init a DGD model\n",
    "\n",
    "gmm_mean_scale = 5.0\n",
    "sd_mean_init = 0.2 * gmm_mean_scale / n_tissues # empirically good for single-cell data at dimensionality 20\n",
    "\n",
    "dgd = DGD(\n",
    "        decoder=decoder,\n",
    "        n_mix=n_tissues,\n",
    "        rep_dim=latent_dim,\n",
    "        gmm_spec={\"mean_init\": (gmm_mean_scale, 5.0), \"sd_init\": (sd_mean_init, 1.0), \"weight_alpha\": 1}\n",
    ")"
   ]
  },
  {
   "cell_type": "code",
   "execution_count": 43,
   "metadata": {},
   "outputs": [
    {
     "name": "stdout",
     "output_type": "stream",
     "text": [
      "1 17325218.108695652 15462093.090909092\n",
      "2 16480762.391304348 15415460.818181818\n",
      "3 16413181.02173913 15371757.886363637\n",
      "4 16358219.336956521 15306838.181818182\n",
      "5 16304475.956521738 15277751.590909092\n",
      "6 16265561.77173913 15253143.0\n",
      "7 16220607.173913043 15200751.409090908\n",
      "8 16185924.217391305 15171438.409090908\n",
      "9 16153484.663043479 15155415.113636363\n",
      "10 16121340.608695652 15120802.5\n"
     ]
    }
   ],
   "source": [
    "# train for 10 epochs and plot learning curves\n",
    "n_epochs = 10\n",
    "pr = 1 # how often to print\n",
    "\n",
    "loss_tab = train_dgd(\n",
    "    dgd, train_loader, test_loader, device, \n",
    "    learning_rates={'dec':0.001,'rep':0.01,'gmm':0.01},\n",
    "    weight_decay=0.,nepochs=n_epochs,pr=pr,reduction_type=reduction_type\n",
    "    )\n",
    "# stuff is running but I have to check the loss normalization for printing and plotting, they seem a bit large"
   ]
  },
  {
   "cell_type": "code",
   "execution_count": 45,
   "metadata": {},
   "outputs": [
    {
     "data": {
      "image/png": "[encoded data removed]",
      "text/plain": [
       "<Figure size 1000x500 with 2 Axes>"
      ]
     },
     "metadata": {},
     "output_type": "display_data"
    }
   ],
   "source": [
    "import matplotlib.pyplot as plt\n",
    "# make 2 subplots with recon and gmm loss curves\n",
    "plt.figure(figsize=(10,5))\n",
    "plt.subplot(1,2,1)\n",
    "plt.plot(loss_tab[\"Epoch\"],loss_tab[\"Train recon\"],label=\"Train\")\n",
    "plt.plot(loss_tab[\"Epoch\"],loss_tab[\"Test recon\"],label=\"Test\")\n",
    "plt.xlabel(\"Epoch\")\n",
    "plt.ylabel(\"Reconstruction loss\")\n",
    "plt.legend()\n",
    "plt.subplot(1,2,2)\n",
    "plt.plot(loss_tab[\"Epoch\"],loss_tab[\"GMM train\"],label=\"Train\")\n",
    "plt.plot(loss_tab[\"Epoch\"],loss_tab[\"GMM test\"],label=\"Test\")\n",
    "plt.xlabel(\"Epoch\")\n",
    "plt.ylabel(\"GMM loss\")\n",
    "plt.legend()\n",
    "plt.show()"
   ]
  }
 ],
 "metadata": {
  "kernelspec": {
   "display_name": "mi-dgd",
   "language": "python",
   "name": "python3"
  },
  "language_info": {
   "codemirror_mode": {
    "name": "ipython",
    "version": 3
   },
   "file_extension": ".py",
   "mimetype": "text/x-python",
   "name": "python",
   "nbconvert_exporter": "python",
   "pygments_lexer": "ipython3",
   "version": "3.10.13"
  }
 },
 "nbformat": 4,
 "nbformat_minor": 2
}
