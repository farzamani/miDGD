{
 "cells": [
  {
   "cell_type": "markdown",
   "metadata": {},
   "source": [
    "# Load Library"
   ]
  },
  {
   "cell_type": "code",
   "execution_count": 1,
   "metadata": {},
   "outputs": [],
   "source": [
    "# general imports\n",
    "import sys\n",
    "import os\n",
    "import torch\n",
    "import torch.nn as nn\n",
    "import numpy as np\n",
    "import pandas as pd"
   ]
  },
  {
   "cell_type": "code",
   "execution_count": 2,
   "metadata": {},
   "outputs": [
    {
     "data": {
      "text/plain": [
       "'2.2.1+cu121'"
      ]
     },
     "execution_count": 2,
     "metadata": {},
     "output_type": "execute_result"
    }
   ],
   "source": [
    "torch.__version__"
   ]
  },
  {
   "cell_type": "code",
   "execution_count": 3,
   "metadata": {},
   "outputs": [],
   "source": [
    "# get the DGD modules (once the current version is public we can switch to the repo)\n",
    "# git clone https://github.com/Center-for-Health-Data-Science/DeepGenerativeDecoder.git\n",
    "# for now I added them to this repo, but the imports will stay the same\n",
    "from src.dgd.latent import RepresentationLayer\n",
    "from src.dgd.latent import GaussianMixture\n",
    "from src.dgd.nn import NB_Module\n",
    "\n",
    "# get the new stuff\n",
    "from src.utils.helpers import set_seed\n",
    "from src.model.decoder import Decoder\n",
    "from src.data.dataset import GeneExpressionDataset\n",
    "# from src.engine.train import train_dgd"
   ]
  },
  {
   "cell_type": "markdown",
   "metadata": {},
   "source": [
    "# Set seeds, device, and directory"
   ]
  },
  {
   "cell_type": "code",
   "execution_count": 4,
   "metadata": {},
   "outputs": [
    {
     "name": "stdout",
     "output_type": "stream",
     "text": [
      "cpu\n"
     ]
    }
   ],
   "source": [
    "# set random seeds, device and data directory\n",
    "seed = 0\n",
    "set_seed(seed)\n",
    "\n",
    "device = torch.device(\"cuda\" if torch.cuda.is_available() else \"cpu\")\n",
    "print(device)\n",
    "\n",
    "datadir = \"./data/\""
   ]
  },
  {
   "cell_type": "markdown",
   "metadata": {},
   "source": [
    "# Load Data"
   ]
  },
  {
   "cell_type": "markdown",
   "metadata": {},
   "source": [
    "## Option 2: Using TCGA"
   ]
  },
  {
   "cell_type": "code",
   "execution_count": 6,
   "metadata": {},
   "outputs": [],
   "source": [
    "mrna_raw = pd.read_table(\"data/TCGA_counts/TCGA_mrna_counts_match.tsv\", sep='\\t')\n",
    "mrna_anno = pd.read_table(\"data/TCGA_counts/TCGA_sample_anno_match.tsv\", sep='\\t')"
   ]
  },
  {
   "cell_type": "code",
   "execution_count": 7,
   "metadata": {},
   "outputs": [],
   "source": [
    "mrna_raw.head()"
   ]
  },
  {
   "cell_type": "code",
   "execution_count": 8,
   "metadata": {},
   "outputs": [],
   "source": [
    "mrna_anno.head()"
   ]
  },
  {
   "cell_type": "code",
   "execution_count": 9,
   "metadata": {},
   "outputs": [],
   "source": [
    "mrna_raw_t = mrna_raw.T\n",
    "mrna_raw_t[\"primary_site\"] = mrna_anno[\"primary_site\"]"
   ]
  },
  {
   "cell_type": "code",
   "execution_count": 10,
   "metadata": {},
   "outputs": [],
   "source": [
    "mrna_raw_t.head()"
   ]
  },
  {
   "cell_type": "code",
   "execution_count": null,
   "metadata": {},
   "outputs": [],
   "source": [
    "pd.write_csv(mrna_raw_t, \"data/TCGA_mrna_counts_match_transposed.tsv\", sep='\\t')"
   ]
  },
  {
   "cell_type": "markdown",
   "metadata": {},
   "source": [
    "## Data Loader"
   ]
  },
  {
   "cell_type": "code",
   "execution_count": 11,
   "metadata": {},
   "outputs": [],
   "source": [
    "# make data split for train and validation sets\n",
    "out_dim = gtex_raw.shape[1]-1\n",
    "train_ratio = 0.9\n",
    "train_data = gtex_raw.iloc[:int(train_ratio*len(gtex_raw)),:]\n",
    "test_data = gtex_raw.iloc[int(train_ratio*len(gtex_raw)):,:]\n",
    "\n",
    "# define scaling for NB\n",
    "# each sample gets a scaling factor\n",
    "scaling_factors = torch.mean(torch.Tensor(train_data.iloc[:,:-1].to_numpy()), dim=-1).unsqueeze(1)\n",
    "test_scaling_factors = torch.mean(torch.Tensor(test_data.iloc[:,:-1].to_numpy()), dim=-1).unsqueeze(1)\n",
    "\n",
    "# make data loaders\n",
    "train_loader = torch.utils.data.DataLoader(GeneExpressionDataset(train_data),\n",
    "                                          batch_size=256,\n",
    "                                          shuffle=True)\n",
    "test_loader = torch.utils.data.DataLoader(GeneExpressionDataset(test_data),\n",
    "                                          batch_size=256,\n",
    "                                          shuffle=True)"
   ]
  },
  {
   "cell_type": "code",
   "execution_count": 12,
   "metadata": {},
   "outputs": [
    {
     "name": "stdout",
     "output_type": "stream",
     "text": [
      "(23528, 5001)\n",
      "(2615, 5001)\n",
      "5000\n"
     ]
    }
   ],
   "source": [
    "print(train_data.shape)\n",
    "print(test_data.shape)\n",
    "print(out_dim)"
   ]
  },
  {
   "cell_type": "code",
   "execution_count": 13,
   "metadata": {},
   "outputs": [
    {
     "name": "stdout",
     "output_type": "stream",
     "text": [
      "torch.Size([256, 5000])\n",
      "torch.Size([256])\n",
      "tensor([273809.5000, 243205.8438, 368477.5938, 230780.7031, 229770.7969,\n",
      "        358382.7812, 125434.7812, 295038.1250, 326396.1562, 319433.4062,\n",
      "        215099.0625, 284019.5625, 180254.4062, 213562.6875, 302271.3438,\n",
      "        219977.9844, 550044.8750, 198442.4375, 239778.4375, 317774.3750,\n",
      "        388889.6875, 235792.8438, 290143.5938, 199943.7812, 292272.5625,\n",
      "        281210.4375, 268411.1875, 325535.4688, 134953.8594, 233651.1250,\n",
      "        463870.1562, 231464.0938, 248763.3438, 404320.7188, 267919.2188,\n",
      "        182472.7031, 428405.4375, 325193.2188, 247754.1875, 212924.1719,\n",
      "        615127.5625, 257121.5625, 258720.5312, 267365.5938, 222589.2344,\n",
      "        251978.6562, 241263.3281, 223659.6250, 174830.5312, 190650.3438,\n",
      "        215854.6719, 215943.7031, 150388.4375, 239949.5156, 213293.7031,\n",
      "        319948.2500, 345512.4062, 220083.2500, 130188.4688, 188660.4844,\n",
      "        215953.7656, 261352.1406, 238485.7812, 447560.0312, 337858.7500,\n",
      "        436376.4688, 362428.5625, 240443.8750, 174442.8750, 278683.6250,\n",
      "        325794.8125, 135516.8906, 265819.3438, 519060.4688, 184546.4375,\n",
      "        376673.0625, 103101.2891, 506329.8125, 290975.5000, 321295.8750,\n",
      "         90885.8906, 259721.0625, 162901.1406, 277242.1250, 305329.5625,\n",
      "        254421.0469, 194512.8906, 180235.8594, 338469.1250, 260012.7031,\n",
      "        169952.0312, 278237.2188, 317940.8438, 201570.4844, 485923.2188,\n",
      "        195135.5000, 374241.3750, 224796.8750, 225032.1875, 173856.4531,\n",
      "        182808.2656, 200689.9844, 206930.7969, 164314.8750,  54495.4570,\n",
      "         69762.4844, 304097.5000, 236070.8281, 318001.5000, 362088.6875,\n",
      "        253153.9531, 280536.7812, 272934.0312, 372601.8438, 352585.4688,\n",
      "        267604.7500, 268782.5000, 447194.4062, 264073.6562, 192408.4219,\n",
      "        237355.5156, 249653.1406, 100800.5156, 200964.1406, 281776.0625,\n",
      "        239313.0469, 220971.3125, 220278.3438, 281281.3438, 337663.9062,\n",
      "        269979.9375, 234936.9375, 159701.4688, 380875.5312, 208210.0938,\n",
      "         16161.0723, 242311.4688, 175202.1719, 225440.4531, 168242.3125,\n",
      "        150040.9375, 252366.0781, 192352.7656, 409384.5312, 272628.8750,\n",
      "        225317.8594, 309878.7188, 447848.8125, 238418.2031, 150788.9375,\n",
      "        314472.2812, 331072.1562, 274449.1250, 264838.9688, 247204.5625,\n",
      "        315327.5000,  74685.5000, 196659.5625, 371182.9062, 245541.4219,\n",
      "        154417.8750, 257966.2031, 217334.2500, 251093.1406, 228890.0938,\n",
      "        131726.3750, 550034.1875, 196868.1719, 269719.0625, 304204.3750,\n",
      "        210110.1719, 397212.6250, 359454.5625, 190294.5781, 218281.0625,\n",
      "        192189.7656, 244800.9219, 336237.9688, 370369.3750, 337519.4688,\n",
      "        305829.6875, 130357.7891,  84154.0625,  63028.3789, 190455.2656,\n",
      "        243834.9531, 220970.3438, 232967.5781, 227578.2344, 336245.6250,\n",
      "        167116.0312, 285563.9062, 283322.7188, 484725.3125, 260244.3281,\n",
      "        559778.4375, 297804.4062, 166180.6250, 296203.8750, 130291.9141,\n",
      "        249221.8438, 314906.9062, 170547.6094, 167169.4531, 349419.2500,\n",
      "         69492.1172, 209810.2344, 187793.7188, 154853.8906, 236748.2344,\n",
      "        207339.7188, 269230.6875, 203795.0469, 230300.8281, 202745.8281,\n",
      "        331065.9688, 262464.7812, 253884.7188, 179448.9688,  85111.2031,\n",
      "        241722.8281, 303784.4062, 261053.0000, 174540.6094, 228038.5000,\n",
      "        200273.9688, 785994.0625, 219288.8594, 235825.5156, 376965.8750,\n",
      "        423998.4688, 393629.8750, 177470.0000, 266795.7812, 186226.4062,\n",
      "        284801.8438, 271096.8750, 312931.2188, 459063.2500, 281754.2812,\n",
      "        266022.4375, 173711.9531, 206896.8594, 202696.5000, 208668.8281,\n",
      "        221332.0781, 262105.7344, 233992.7031, 322422.3125, 325399.2500,\n",
      "        435963.5312, 192752.7812, 207521.3438, 242131.7188, 339337.0625,\n",
      "        201080.6719])\n",
      "torch.Size([256])\n",
      "tensor([  658, 11552,  8273,  7163,   433,  2927, 16575, 20542, 18448, 19278,\n",
      "          653, 18057,  3498, 13174, 21967, 16994,  2915, 10618, 14207, 20700,\n",
      "        12472, 15951,  7777, 15215, 22659,  1911, 21704,  2830,  9383,  8790,\n",
      "        20494,  8187, 16399, 12451, 21328, 12209, 21479, 10699,  3711, 17197,\n",
      "        21311, 17119,   110,  2918,   439, 17465, 19468, 14308,  9328, 12033,\n",
      "         7251, 15304,  8703, 22917,  2080, 10802, 12448, 22487,  9139, 10593,\n",
      "        11781,  5892,  6833, 21803, 14938, 21703, 22146, 23389, 11131, 19868,\n",
      "         1861, 13062, 22708, 11140, 17060,  1248,  7166, 15607, 19752, 19797,\n",
      "        17832, 19557,  7915, 12083,  7910, 13382, 12512,  4065, 11637, 10744,\n",
      "         7101,  1994, 21068,  1281, 20200,  6785, 17143, 14935,  8577, 16841,\n",
      "         3992,  1532, 13183, 12969,  8116, 16237,  4150,  1995, 22589, 15489,\n",
      "        11317, 17528,  7897, 22013,  2931, 16747, 10339, 20180,  6322, 10990,\n",
      "          154, 15414, 20242, 11253,  4547, 11415,  7510, 19205, 14062, 22049,\n",
      "        19544,  5823, 16874,  1643,  4000,  3329, 17179, 19248,  6799,  4106,\n",
      "         9382, 14126, 13623, 21532,  6641, 17754, 16819,  6717, 18146,   277,\n",
      "        18784, 11806, 21423, 22731,  5610, 17838,  9390, 12487, 11854, 18064,\n",
      "         7367, 23306,  8658,  6917,  5649,  1574, 18317, 22567,  6378, 22905,\n",
      "          105,  3180,   927,  9785, 18673,  3938,  2272,  7301, 18474, 21399,\n",
      "         8885,  8531, 20353,  7532,  9318,  7417, 19096, 10502, 10434, 12300,\n",
      "        14477,  1593, 22606, 12794, 12460, 23378,  7460, 22570,  7860, 15686,\n",
      "         2614, 15168, 19265,  7748,  1923,  3972,  5827, 15837, 16793,  4225,\n",
      "        18249,   740, 10197,  1375, 16177,  1835,  5150, 12081,  4773, 15693,\n",
      "        22913, 13790, 13019,  6079,  1389,  4168,  6972, 12432,  1344, 12409,\n",
      "         1968, 12585,  8058,  1714, 12039,  8582, 10937,  1017, 16279, 12317,\n",
      "         2321,  3563,  4723, 14672,  5621,   426, 22077,   219, 13160, 16040,\n",
      "        11904,  4163, 14077,  4686, 23279, 16684])\n"
     ]
    }
   ],
   "source": [
    "for x, lib, index in train_loader:\n",
    "    print(x.shape)\n",
    "    print(lib.shape)\n",
    "    print(lib)\n",
    "    print(index.shape)\n",
    "    print(index)\n",
    "    break"
   ]
  },
  {
   "cell_type": "code",
   "execution_count": 14,
   "metadata": {},
   "outputs": [],
   "source": [
    "n_tissues = len(gtex_raw[\"tissue\"].unique())\n",
    "n_tissues # bit too high with cancer types\n",
    "n_tissues = 30"
   ]
  },
  {
   "cell_type": "code",
   "execution_count": 15,
   "metadata": {},
   "outputs": [],
   "source": [
    "# hyperparameters\n",
    "latent_dim = 20\n",
    "hidden_dims = [128, 128, 128]\n",
    "reduction_type = \"sum\" # output loss reduction"
   ]
  },
  {
   "cell_type": "markdown",
   "metadata": {},
   "source": [
    "# Decoder Setup"
   ]
  },
  {
   "cell_type": "code",
   "execution_count": 16,
   "metadata": {},
   "outputs": [],
   "source": [
    "# decoder setup\n",
    "\n",
    "# set up an output module for the expression data\n",
    "gex_out_fc = nn.Sequential(\n",
    "    nn.Linear(hidden_dims[-1], out_dim)\n",
    "    )\n",
    "output_gex_layer = NB_Module(gex_out_fc, out_dim, scaling_type=\"mean\")\n",
    "output_gex_layer.n_features = out_dim\n",
    "\n",
    "# set up the decoder\n",
    "decoder = Decoder(latent_dim, hidden_dims, [output_gex_layer]).to(device)"
   ]
  },
  {
   "cell_type": "markdown",
   "metadata": {},
   "source": [
    "# Specific code (DGD collection and training loop) as examples\n",
    "\n",
    "Can be changed depending on the model, I assume\n",
    "\n",
    "## DGD Class"
   ]
  },
  {
   "cell_type": "code",
   "execution_count": 17,
   "metadata": {},
   "outputs": [],
   "source": [
    "# combine everything in one class (if desired)\n",
    "\n",
    "class DGD(nn.Module):\n",
    "    def __init__(self, decoder, n_mix, rep_dim, gmm_spec={}):\n",
    "        super(DGD, self).__init__()\n",
    "        self.decoder = decoder\n",
    "        self.rep_dim = rep_dim      # Dimension of representation\n",
    "\n",
    "        self.gmm = GaussianMixture(n_mix, rep_dim, **gmm_spec)\n",
    "        self.train_rep = None\n",
    "        self.val_rep = None\n",
    "\n",
    "    def forward(self,z):\n",
    "        return self.decoder(z)\n",
    "\n",
    "    def loss(self, z, y, target, scale, gmm_loss=True, reduction=\"sum\"):\n",
    "        self.dec_loss = self.decoder.loss(y, target, scale, reduction=reduction)\n",
    "        if gmm_loss:\n",
    "            self.gmm_loss = self.gmm(z)\n",
    "            if reduction==\"mean\":\n",
    "                self.gmm_loss = self.gmm_loss.mean()\n",
    "            elif reduction==\"sum\":\n",
    "                self.gmm_loss = self.gmm_loss.sum()\n",
    "            return self.dec_loss, self.gmm_loss\n",
    "        else:\n",
    "            return self.dec_loss, None\n",
    "    \n",
    "    def forward_and_loss(self,z,target,scale,gmm_loss=True,reduction=\"sum\"):\n",
    "        y = self.decoder(z)\n",
    "        return self.loss(z, y, target, scale, gmm_loss, reduction)"
   ]
  },
  {
   "cell_type": "markdown",
   "metadata": {},
   "source": [
    "## Training Function"
   ]
  },
  {
   "cell_type": "code",
   "execution_count": 18,
   "metadata": {},
   "outputs": [],
   "source": [
    "# write a minimal training function\n",
    "\n",
    "def train_dgd(dgd, train_loader, validation_loader, device, learning_rates={'dec':0.001,'rep':0.01,'gmm':0.01},weight_decay=0.,nepochs=100,pr=1,reduction_type=\"sum\"):\n",
    "    if reduction_type == \"sum\":\n",
    "        tlen=len(train_loader.dataset)*dgd.decoder.n_out_features\n",
    "        tlen_gmm=len(train_loader.dataset)*dgd.gmm.n_mix_comp*dgd.gmm.dim\n",
    "        vlen=len(validation_loader.dataset)*dgd.decoder.n_out_features\n",
    "        vlen_gmm=len(validation_loader.dataset)*dgd.gmm.n_mix_comp*dgd.gmm.dim\n",
    "    else:\n",
    "        tlen=len(train_loader)\n",
    "        tlen_gmm=len(train_loader)\n",
    "        vlen=len(validation_loader)\n",
    "        vlen_gmm=len(validation_loader)\n",
    "    \n",
    "    Ntrain=len(train_loader.dataset)\n",
    "    Nvalidation=len(validation_loader.dataset)\n",
    "    if dgd.train_rep is None:\n",
    "        dgd.train_rep = RepresentationLayer(dgd.rep_dim, Ntrain).to(device)\n",
    "    Nvalidation=len(validation_loader.dataset)\n",
    "    if dgd.val_rep is None:\n",
    "        dgd.val_rep = RepresentationLayer(dgd.rep_dim, Nvalidation).to(device)\n",
    "\n",
    "    dec_optimizer = torch.optim.AdamW(dgd.decoder.parameters(), lr=learning_rates['dec'])\n",
    "    gmm_optimizer = torch.optim.AdamW(dgd.gmm.parameters(), lr=learning_rates['gmm'])\n",
    "    train_rep_optimizer = torch.optim.AdamW(dgd.train_rep.parameters(), lr=learning_rates['rep'])\n",
    "    val_rep_optimizer = torch.optim.AdamW(dgd.val_rep.parameters(), lr=learning_rates['rep'])\n",
    "\n",
    "    loss_tab = {\"Epoch\":[],\"Train recon\":[],\"Test recon\":[],\n",
    "                \"GMM train\":[],\"GMM test\":[]}\n",
    "    best_loss = 1.e20\n",
    "\n",
    "    # length of dataloader\n",
    "    tlen = len(train_loader)\n",
    "    vlen = len(validation_loader)\n",
    "    gmm_loss = True\n",
    "    dgd.train()\n",
    "    \n",
    "    for epoch in range(nepochs):\n",
    "        loss_tab[\"Epoch\"].append(epoch)\n",
    "        loss_tab[\"Train recon\"].append(0.)\n",
    "        loss_tab[\"GMM train\"].append(0.)\n",
    "\n",
    "        train_rep_optimizer.zero_grad()\n",
    "        dgd.train()\n",
    "\n",
    "        for x, lib, index in train_loader:\n",
    "            dec_optimizer.zero_grad()\n",
    "            if gmm_loss: \n",
    "                gmm_optimizer.zero_grad()\n",
    "            recon_loss, gmm_loss = dgd.forward_and_loss(dgd.train_rep(index), [x.to(device)], [lib.unsqueeze(1).to(device)],\n",
    "                                        gmm_loss = gmm_loss, reduction=reduction_type)\n",
    "            loss_tab[\"Train recon\"][-1] += recon_loss.item()\n",
    "            loss_tab[\"GMM train\"][-1] += gmm_loss.item()\n",
    "            loss = recon_loss + gmm_loss\n",
    "            loss.backward()\n",
    "            dec_optimizer.step()\n",
    "            if gmm_loss: \n",
    "                gmm_optimizer.step()\n",
    "            #return None\n",
    "        train_rep_optimizer.step()\n",
    "\n",
    "        loss_tab[\"Train recon\"][-1] /= tlen\n",
    "        loss_tab[\"GMM train\"][-1] /= tlen_gmm\n",
    "\n",
    "        # Validation data\n",
    "        loss_tab[\"Test recon\"].append(0.)\n",
    "        loss_tab[\"GMM test\"].append(0.)\n",
    "        val_rep_optimizer.zero_grad()\n",
    "        dgd.eval()\n",
    "        for x, lib, index in validation_loader:\n",
    "            recon_loss, gmm_loss = dgd.forward_and_loss(dgd.val_rep(index),[x.to(device)],[lib.unsqueeze(1).to(device)],\n",
    "                                        gmm_loss=gmm_loss,reduction=reduction_type)\n",
    "            loss_tab[\"Test recon\"][-1] += recon_loss.item()\n",
    "            loss_tab[\"GMM test\"][-1] += gmm_loss.item()\n",
    "            loss = recon_loss + gmm_loss\n",
    "            loss.backward()\n",
    "        val_rep_optimizer.step()\n",
    "\n",
    "        loss_tab[\"Test recon\"][-1] /= vlen\n",
    "        loss_tab[\"GMM test\"][-1] /= vlen_gmm\n",
    "\n",
    "        if pr > 0 and (epoch+1)%pr==0:\n",
    "            print(epoch+1, loss_tab[\"Train recon\"][-1], loss_tab[\"Test recon\"][-1])\n",
    "    \n",
    "    return loss_tab"
   ]
  },
  {
   "cell_type": "markdown",
   "metadata": {},
   "source": [
    "# Train and Test the model\n",
    "\n",
    "## Params and DGD"
   ]
  },
  {
   "cell_type": "code",
   "execution_count": 19,
   "metadata": {},
   "outputs": [],
   "source": [
    "# init a DGD model\n",
    "\n",
    "gmm_mean_scale = 5.0\n",
    "sd_mean_init = 0.2 * gmm_mean_scale / n_tissues # empirically good for single-cell data at dimensionality 20\n",
    "\n",
    "dgd = DGD(\n",
    "        decoder = decoder,\n",
    "        n_mix = n_tissues,\n",
    "        rep_dim = latent_dim,\n",
    "        gmm_spec = {\"mean_init\": (gmm_mean_scale, 5.0), \"sd_init\": (sd_mean_init, 1.0), \"weight_alpha\": 1}\n",
    ")"
   ]
  },
  {
   "cell_type": "markdown",
   "metadata": {},
   "source": [
    "## Training loop"
   ]
  },
  {
   "cell_type": "code",
   "execution_count": 20,
   "metadata": {},
   "outputs": [
    {
     "name": "stdout",
     "output_type": "stream",
     "text": [
      "1 17371365.38043478 15478719.568181818\n",
      "2 16482767.413043479 15423604.5\n",
      "3 16414711.77173913 15365730.704545455\n",
      "4 16358067.47826087 15350201.386363637\n",
      "5 16306614.380434783 15291147.136363637\n",
      "6 16265257.836956521 15235566.136363637\n",
      "7 16221040.847826088 15206807.0\n",
      "8 16186183.152173912 15166338.545454545\n",
      "9 16153721.52173913 15155122.659090908\n",
      "10 16121636.923913043 15111581.227272727\n"
     ]
    }
   ],
   "source": [
    "# train for 10 epochs and plot learning curves\n",
    "n_epochs = 10\n",
    "pr = 1  # how often to print\n",
    "\n",
    "loss_tab = train_dgd(\n",
    "    dgd, train_loader, test_loader, device,\n",
    "    learning_rates={'dec': 0.001, 'rep': 0.01, 'gmm': 0.01},\n",
    "    weight_decay=0., nepochs=n_epochs, pr=pr, reduction_type=reduction_type\n",
    ")\n",
    "\n",
    "# stuff is running but I have to check the loss normalization for printing and plotting, they seem a bit large"
   ]
  },
  {
   "cell_type": "markdown",
   "metadata": {},
   "source": [
    "# Plotting"
   ]
  },
  {
   "cell_type": "code",
   "execution_count": 21,
   "metadata": {},
   "outputs": [
    {
     "data": {
      "image/png": "[encoded data removed]",
      "text/plain": [
       "<Figure size 1000x500 with 2 Axes>"
      ]
     },
     "metadata": {},
     "output_type": "display_data"
    }
   ],
   "source": [
    "import matplotlib.pyplot as plt\n",
    "# make 2 subplots with recon and gmm loss curves\n",
    "\n",
    "plt.figure(figsize=(10,5))\n",
    "plt.subplot(1,2,1)\n",
    "plt.plot(loss_tab[\"Epoch\"],loss_tab[\"Train recon\"],label=\"Train\")\n",
    "plt.plot(loss_tab[\"Epoch\"],loss_tab[\"Test recon\"],label=\"Test\")\n",
    "plt.xlabel(\"Epoch\")\n",
    "plt.ylabel(\"Reconstruction loss\")\n",
    "plt.legend()\n",
    "\n",
    "plt.subplot(1,2,2)\n",
    "plt.plot(loss_tab[\"Epoch\"],loss_tab[\"GMM train\"],label=\"Train\")\n",
    "plt.plot(loss_tab[\"Epoch\"],loss_tab[\"GMM test\"],label=\"Test\")\n",
    "plt.xlabel(\"Epoch\")\n",
    "plt.ylabel(\"GMM loss\")\n",
    "plt.legend()\n",
    "plt.show()"
   ]
  },
  {
   "cell_type": "code",
   "execution_count": 27,
   "metadata": {},
   "outputs": [
    {
     "data": {
      "text/plain": [
       "DGD(\n",
       "  (decoder): Decoder(\n",
       "    (main): ModuleList(\n",
       "      (0): Linear(in_features=20, out_features=128, bias=True)\n",
       "      (1): ReLU()\n",
       "      (2): Linear(in_features=128, out_features=128, bias=True)\n",
       "      (3): ReLU()\n",
       "      (4): Linear(in_features=128, out_features=128, bias=True)\n",
       "      (5): ReLU()\n",
       "    )\n",
       "    (out_modules): ModuleList(\n",
       "      (0): NB_Module(\n",
       "        (fc): Sequential(\n",
       "          (0): Linear(in_features=128, out_features=5000, bias=True)\n",
       "        )\n",
       "      )\n",
       "    )\n",
       "  )\n",
       "  (gmm): GaussianMixture()\n",
       "  (train_rep): RepresentationLayer()\n",
       "  (val_rep): RepresentationLayer()\n",
       ")"
      ]
     },
     "execution_count": 27,
     "metadata": {},
     "output_type": "execute_result"
    }
   ],
   "source": [
    "dgd"
   ]
  },
  {
   "cell_type": "code",
   "execution_count": 26,
   "metadata": {},
   "outputs": [
    {
     "name": "stdout",
     "output_type": "stream",
     "text": [
      "tensor([[1.8539e+05, 1.3371e+05, 3.0400e+02,  ..., 1.4713e+05, 1.9333e+05,\n",
      "         9.8169e+04],\n",
      "        [1.0008e+05, 9.6027e+04, 0.0000e+00,  ..., 5.9324e+04, 2.1931e+05,\n",
      "         4.8810e+04],\n",
      "        [1.7654e+05, 1.8316e+05, 0.0000e+00,  ..., 2.7448e+05, 2.8860e+05,\n",
      "         1.4679e+05],\n",
      "        ...,\n",
      "        [2.3594e+05, 1.9534e+05, 0.0000e+00,  ..., 1.9461e+05, 2.5457e+05,\n",
      "         1.0756e+05],\n",
      "        [2.6800e+05, 2.1225e+05, 6.8000e+01,  ..., 1.5712e+05, 1.8459e+05,\n",
      "         7.9051e+04],\n",
      "        [1.1574e+05, 3.9748e+04, 5.2220e+03,  ..., 1.5161e+05, 5.8636e+04,\n",
      "         6.1683e+04]])\n",
      "tensor([322891.4062, 229277.2812, 369438.9062, 312785.0000, 135260.7031,\n",
      "        207156.9219, 228916.7812, 183600.3281, 327484.5312, 203613.5156,\n",
      "        102308.9219, 361049.0000, 276937.2812, 305857.6250, 262538.8438,\n",
      "        236070.8281, 291334.2812, 327696.6875, 127999.8750, 246881.1562,\n",
      "        279307.9062, 201884.7344, 341380.1875, 251563.0781, 266200.5625,\n",
      "        223588.5000, 274445.3750, 158084.4219, 299615.1875, 291754.5312,\n",
      "        356232.8750, 233481.7812, 219338.7031, 423642.7500, 427520.8125,\n",
      "        300847.4062, 300393.6875, 287043.7500, 318852.1562, 186379.5938,\n",
      "        180220.1406, 311443.6250, 126416.4062, 170295.9062, 435410.9375,\n",
      "        108029.0312, 302121.5312, 272375.0000, 278163.6562, 535727.1250,\n",
      "        239742.8281, 221647.6719, 305310.8750, 258023.4219, 263550.1250,\n",
      "        262250.6875, 163043.0000, 209977.9062, 303595.7188, 116732.8516,\n",
      "        212626.8750, 760245.7500, 247269.3438, 244857.9531, 261025.2344,\n",
      "        239771.1875, 222682.5469, 153942.3750, 228321.3750, 370613.0312,\n",
      "        283862.0625, 261721.9531, 240160.8125, 258587.0312, 194251.1406,\n",
      "        257813.6562, 278989.9062, 274713.6875, 314140.3750, 440538.0625,\n",
      "        245120.1094, 309925.3438, 173082.3125, 259702.4219, 346686.8125,\n",
      "        345501.1875, 216425.8750, 583975.6250, 168177.4688, 249860.4844,\n",
      "        172133.2500, 323823.2812, 217209.8750, 173898.0156, 178218.2031,\n",
      "        211845.1406, 164186.1719, 204324.7656, 331778.6250, 291244.3750,\n",
      "        184030.9844, 254328.5781, 221894.8594, 344766.4688, 370515.6875,\n",
      "        156120.0156, 220254.0000, 252960.1562, 244871.7812, 101793.5391,\n",
      "        225886.2031, 275922.9688, 260051.9688, 166341.5625, 248447.3125,\n",
      "        330705.5312, 185993.0938, 205505.4844, 174830.5312, 184412.3594,\n",
      "        268813.5312, 289820.2500, 426617.5000, 288447.6875, 180359.0781,\n",
      "        204156.8750, 338285.2188, 239713.3594, 359631.3125, 182160.5938,\n",
      "        171509.6250, 161850.4219, 237363.7344, 403271.3125, 318621.2500,\n",
      "        277455.6562, 403536.9062,  57158.4375, 290950.5312, 209299.8594,\n",
      "        175903.5469, 168675.1562, 215513.3438, 345689.7188, 348656.5938,\n",
      "        170762.2188, 364566.2500, 284765.0938, 236021.4062, 242253.3125,\n",
      "        334357.3750, 293786.7500, 281339.4375, 265147.8125, 329480.2812,\n",
      "        395441.4375, 167500.5781, 161015.3438, 213322.9219, 323750.2500,\n",
      "        216956.2344, 265187.9688, 289573.1562, 301408.3438, 252685.5156,\n",
      "        186341.5781, 274835.8750, 166405.3750, 264073.6562, 164341.0625,\n",
      "        407336.4688, 271638.3750, 202310.9688, 300366.0938, 206866.8438,\n",
      "        568389.9375, 385962.5000, 316789.1562, 210070.4062, 229981.1875,\n",
      "        253745.3750, 267023.7812, 292481.4375, 221964.4219, 230986.2969,\n",
      "        219730.7656, 166746.7500, 190163.4531, 208668.8281, 284650.0938,\n",
      "        262920.8750, 193019.2812, 422888.2500, 218744.6250, 158214.8125,\n",
      "        294200.0625, 344137.4062, 398592.5000, 191951.1875, 307288.9375,\n",
      "        257648.1250, 335349.0625, 220136.6562, 347361.8438, 477300.5312,\n",
      "        132869.4062, 240381.5625, 256257.1250, 206790.7031, 241917.6719,\n",
      "        183402.3594, 286412.7188, 285068.2500, 181949.2812, 332997.2500,\n",
      "        260097.3125, 240945.0469, 309610.8125, 450499.9375, 390149.4375,\n",
      "        112557.9297, 152910.3125, 195493.7344, 289602.2500, 405721.9375,\n",
      "        274981.6875, 454352.1250, 188751.7500, 348659.0000, 337680.7812,\n",
      "        277895.1562, 205141.4375, 200699.3438, 311865.0000, 285717.5938,\n",
      "        223276.7500, 179610.2344, 302146.3438, 273990.2812, 218708.9375,\n",
      "        188507.4375, 211517.0000, 267879.1875, 249754.3750, 209369.6094,\n",
      "        413885.3750, 185851.8438, 652817.5625, 292383.3750, 322554.3750,\n",
      "        262066.8125, 161008.3125,  93051.0859, 259660.9844, 219030.1250,\n",
      "        257393.6406])\n"
     ]
    }
   ],
   "source": [
    "for x, lib, index in train_loader:\n",
    "    print(x)\n",
    "    print(lib)\n",
    "    break"
   ]
  }
 ],
 "metadata": {
  "kernelspec": {
   "display_name": "Python 3 (ipykernel)",
   "language": "python",
   "name": "python3"
  },
  "language_info": {
   "codemirror_mode": {
    "name": "ipython",
    "version": 3
   },
   "file_extension": ".py",
   "mimetype": "text/x-python",
   "name": "python",
   "nbconvert_exporter": "python",
   "pygments_lexer": "ipython3",
   "version": "3.10.13"
  }
 },
 "nbformat": 4,
 "nbformat_minor": 4
}
