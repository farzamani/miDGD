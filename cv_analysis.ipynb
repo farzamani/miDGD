{
 "cells": [
  {
   "cell_type": "code",
   "execution_count": 14,
   "metadata": {},
   "outputs": [],
   "source": [
    "import torch\n",
    "import numpy as np"
   ]
  },
  {
   "cell_type": "code",
   "execution_count": 4,
   "metadata": {},
   "outputs": [],
   "source": [
    "loss_tab = torch.load('results/0505_loss_midgd_cv.pickle')"
   ]
  },
  {
   "cell_type": "code",
   "execution_count": 18,
   "metadata": {},
   "outputs": [
    {
     "name": "stdout",
     "output_type": "stream",
     "text": [
      "loss fold 0: 10.602550310560584\n",
      "loss fold 1: 11.178118573390964\n",
      "loss fold 2: 11.400475864548122\n",
      "loss fold 3: 10.749078366643143\n",
      "loss fold 4: 10.740763410168945\n"
     ]
    }
   ],
   "source": [
    "fold = 5\n",
    "for i in range(fold):\n",
    "    # loss_tab[0]['epoch'][-1]\n",
    "    loss = loss_tab[i]['test_recon_mrna'][-1] + loss_tab[i]['test_recon_mirna'][-1] + loss_tab[i]['test_gmm'][-1]\n",
    "    print(f\"loss fold {i}: {loss}\")\n",
    "    # print(f\"rmse fold {i}: {np.sqrt(loss_tab[i]['test_mse'][-1])}\")"
   ]
  },
  {
   "cell_type": "code",
   "execution_count": null,
   "metadata": {},
   "outputs": [],
   "source": []
  }
 ],
 "metadata": {
  "kernelspec": {
   "display_name": "midgd-env",
   "language": "python",
   "name": "python3"
  },
  "language_info": {
   "codemirror_mode": {
    "name": "ipython",
    "version": 3
   },
   "file_extension": ".py",
   "mimetype": "text/x-python",
   "name": "python",
   "nbconvert_exporter": "python",
   "pygments_lexer": "ipython3",
   "version": "3.10.14"
  }
 },
 "nbformat": 4,
 "nbformat_minor": 2
}
